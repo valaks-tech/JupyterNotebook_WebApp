{
 "cells": [
  {
   "cell_type": "code",
   "execution_count": 16,
   "id": "79cd310b",
   "metadata": {},
   "outputs": [],
   "source": [
    "# import libraries\n",
    "from ipywidgets.widgets import Label, FloatProgress, FloatSlider, Button\n",
    "from ipywidgets.widgets import Layout, HBox, VBox\n",
    "from IPython.display import display\n",
    "import numpy as np\n",
    "import bqplot as bq\n",
    "import time\n",
    "import threading"
   ]
  },
  {
   "cell_type": "code",
   "execution_count": 7,
   "id": "69f24959",
   "metadata": {},
   "outputs": [],
   "source": [
    "# flag to control\n",
    "flag = True\n",
    "\n",
    "# data to plot\n",
    "x = np.linspace(0, 2*np.pi, 500)\n",
    "dx = x[1] - x[0]\n",
    "y = 1 + np.sin(x)"
   ]
  },
  {
   "cell_type": "code",
   "execution_count": 17,
   "id": "073566d2",
   "metadata": {},
   "outputs": [],
   "source": [
    "# GUI elements\n",
    "# STOP button to stop the app\n",
    "b_stop = Button(\n",
    "    description='Stop',\n",
    "    icon='stop',\n",
    "    button_style='warning',\n",
    "    layout=Layout(width='120px')\n",
    ")\n",
    "\n",
    "def stop_click(b):\n",
    "    global flag\n",
    "    flag = False\n",
    "    \n",
    "b_stop.on_click(stop_click)\n",
    "\n",
    "# progreess bar\n",
    "p1 = FloatProgress(\n",
    "    value=y[-1],\n",
    "    min=0,\n",
    "    max=2,\n",
    "    description='PV:',\n",
    "    style={'description_width': 'initial'},\n",
    "    layout=Layout(width='375px')\n",
    ")\n",
    "p2 = Label(\n",
    "    value=str(np.round(y[-1],2)),\n",
    "    layout=Layout(margin='0 10px 0 31px')\n",
    ")\n",
    "\n",
    "p12= HBox(\n",
    "    children=(p1,p2),\n",
    "    layout=Layout(margin='0 10px 0 31px')\n",
    ")\n",
    "\n",
    "# slider \n",
    "pA = FloatSlider(\n",
    "    value=0,\n",
    "    min=0,\n",
    "    max=0.5,\n",
    "    step=0.01,\n",
    "    description='Noise:',\n",
    "    layout=Layout(width='500px',margin='0 0 5px 0')  \n",
    ")"
   ]
  },
  {
   "cell_type": "code",
   "execution_count": 15,
   "id": "aa2aae05",
   "metadata": {},
   "outputs": [],
   "source": [
    "# plot elements\n",
    "\n",
    "x_scale = bq.LinearScale()\n",
    "y_scale = bq.LinearScale()\n",
    "\n",
    "# axis\n",
    "x_ax = bq.Axis(\n",
    "    label='x(t)',\n",
    "    scale=x_scale\n",
    ")\n",
    "y_ax = bq.Axis(\n",
    "    label='y(t)',\n",
    "    scale=y_scale,\n",
    "    orientation='vertical'\n",
    ")\n",
    "\n",
    "#Lines\n",
    "\n",
    "Line = bq.Lines(\n",
    "    x=x,\n",
    "    y=y,\n",
    "    scales={'x':x_scale, 'y':y_scale}\n",
    ")\n",
    "\n",
    "# Figure\n",
    "fig = bq.Figure(\n",
    "    layout=Layout(width='500px', height='300px'),\n",
    "    axes=[x_ax,y_ax],\n",
    "    marks=[Line],\n",
    "    fig_margin=dict(top=10,bottom=10,left=50, right=10)\n",
    ")"
   ]
  },
  {
   "cell_type": "code",
   "execution_count": 19,
   "id": "b7be5290",
   "metadata": {},
   "outputs": [],
   "source": [
    "#join everything\n",
    "box = VBox(\n",
    "    children=(fig, p12, pA),\n",
    "    layout=Layout(border='solid 3px gray', width='510px')\n",
    ")\n",
    "app = VBox(\n",
    "    children=(b_stop, box)\n",
    ")"
   ]
  },
  {
   "cell_type": "code",
   "execution_count": 24,
   "id": "e8b0d0ec",
   "metadata": {},
   "outputs": [],
   "source": [
    "# LOOPING FUNCTION\n",
    "\n",
    "def work():\n",
    "    global x\n",
    "    global y\n",
    "    \n",
    "    while flag:\n",
    "        # get latest value of slider\n",
    "        A = pA.value\n",
    "        \n",
    "        x = np.delete(x, 0)\n",
    "        y = np.delete(y, 0)\n",
    "        \n",
    "        x= np.append(x, x[-1]+dx)\n",
    "        noise = A*np.random.rand()\n",
    "        y = np.append(y, 1 + np.sin(x[-1]) + noise)\n",
    "        \n",
    "        p1.value = y[-1]\n",
    "        p2.value = str(np.round(y[-1],2))\n",
    "        \n",
    "        Line.x = x\n",
    "        Line.y = y\n",
    "        \n",
    "        time.sleep(0.05)"
   ]
  },
  {
   "cell_type": "code",
   "execution_count": 25,
   "id": "9fbce55a",
   "metadata": {},
   "outputs": [
    {
     "data": {
      "application/vnd.jupyter.widget-view+json": {
       "model_id": "26362f74679e4c9b956bab5bcd9eeaa4",
       "version_major": 2,
       "version_minor": 0
      },
      "text/plain": [
       "VBox(children=(Button(button_style='warning', description='Stop', icon='stop', layout=Layout(width='120px'), s…"
      ]
     },
     "metadata": {},
     "output_type": "display_data"
    }
   ],
   "source": [
    "flag = True\n",
    "\n",
    "thread = threading.Thread(target=work)\n",
    "\n",
    "display(app)\n",
    "\n",
    "thread.start()"
   ]
  },
  {
   "cell_type": "code",
   "execution_count": null,
   "id": "2d88a29f",
   "metadata": {},
   "outputs": [],
   "source": []
  }
 ],
 "metadata": {
  "kernelspec": {
   "display_name": "Python 3",
   "language": "python",
   "name": "python3"
  },
  "language_info": {
   "codemirror_mode": {
    "name": "ipython",
    "version": 3
   },
   "file_extension": ".py",
   "mimetype": "text/x-python",
   "name": "python",
   "nbconvert_exporter": "python",
   "pygments_lexer": "ipython3",
   "version": "3.8.8"
  }
 },
 "nbformat": 4,
 "nbformat_minor": 5
}
